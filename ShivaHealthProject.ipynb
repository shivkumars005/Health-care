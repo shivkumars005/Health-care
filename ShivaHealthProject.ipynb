{
 "cells": [
  {
   "cell_type": "code",
   "execution_count": 5,
   "id": "c1f75677-6fe4-4ec4-b3bd-25417804fbcf",
   "metadata": {},
   "outputs": [
    {
     "name": "stdin",
     "output_type": "stream",
     "text": [
      "Enter Patient ID to search:  69\n"
     ]
    },
    {
     "name": "stdout",
     "output_type": "stream",
     "text": [
      "Patient Found:\n",
      "    PatientID        State   Sex GeneralHealth   AgeCategory  HeightInMeters  \\\n",
      "68         69  West Bengal  Male          Fair  Age 50 to 54             1.8   \n",
      "\n",
      "    WeightInKilograms    BMI                              Disease  JoinedDate  \\\n",
      "68          94.800003  29.15  HadArthritis, ChestScan, HIVTesting  2020-02-11   \n",
      "\n",
      "   CheckoutDate Insurance  \n",
      "68   2020-03-01        No  \n"
     ]
    },
    {
     "name": "stdin",
     "output_type": "stream",
     "text": [
      "Do you want to continue? (yes/no):  yes\n",
      "Enter Patient ID to search:  123654987\n"
     ]
    },
    {
     "name": "stdout",
     "output_type": "stream",
     "text": [
      "Patient not found. Adding new patient details.\n",
      "Assigning new PatientID: 237631\n"
     ]
    },
    {
     "name": "stdin",
     "output_type": "stream",
     "text": [
      "Enter State:  Telangana\n",
      "Enter Sex (Male/Female):  MAle\n",
      "Enter General Health:  Fair\n",
      "Enter Age Category:  18-20\n",
      "Enter Height in Meters:  1.68\n",
      "Enter Weight in Kilograms:  69\n",
      "Enter BMI:  1.43\n",
      "Enter Diseases (comma-separated):  Stroke\n",
      "Enter Joined Date (YYYY-MM-DD):  2024-06-04\n",
      "Enter Checkout Date (YYYY-MM-DD):  2024-10-04\n",
      "Has Insurance (Yes/No):  Yes\n"
     ]
    },
    {
     "name": "stdout",
     "output_type": "stream",
     "text": [
      "Patient details added successfully.\n",
      "Dataset updated.\n"
     ]
    },
    {
     "name": "stdin",
     "output_type": "stream",
     "text": [
      "Do you want to continue? (yes/no):  no\n"
     ]
    }
   ],
   "source": [
    "import pandas as pd\n",
    "from datetime import datetime\n",
    "\n",
    "# Load the dataset\n",
    "file_path = \"dataset.csv\"\n",
    "data = pd.read_csv(file_path)\n",
    "\n",
    "def find_patient(patient_id):\n",
    "    global data  # Declare `data` as global\n",
    "    # Check if the patient exists\n",
    "    result = data[data[\"PatientID\"] == patient_id]\n",
    "    if not result.empty:\n",
    "        print(\"Patient Found:\")\n",
    "        print(result)\n",
    "    else:\n",
    "        print(\"Patient not found. Adding new patient details.\")\n",
    "        add_patient()\n",
    "\n",
    "def add_patient():\n",
    "    global data  # Declare `data` as global\n",
    "    # Get the next PatientID\n",
    "    next_patient_id = data[\"PatientID\"].max() + 1 if not data.empty else 1\n",
    "    print(f\"Assigning new PatientID: {next_patient_id}\")\n",
    "    \n",
    "    # Prompt user for other details\n",
    "    details = {\n",
    "        \"PatientID\": next_patient_id,\n",
    "        \"State\": input(\"Enter State: \"),\n",
    "        \"Sex\": input(\"Enter Sex (Male/Female): \"),\n",
    "        \"GeneralHealth\": input(\"Enter General Health: \"),\n",
    "        \"AgeCategory\": input(\"Enter Age Category: \"),\n",
    "        \"HeightInMeters\": float(input(\"Enter Height in Meters: \")),\n",
    "        \"WeightInKilograms\": float(input(\"Enter Weight in Kilograms: \")),\n",
    "        \"BMI\": float(input(\"Enter BMI: \")),\n",
    "        \"Disease\": input(\"Enter Diseases (comma-separated): \"),\n",
    "        \"JoinedDate\": input(\"Enter Joined Date (YYYY-MM-DD): \"),\n",
    "        \"CheckoutDate\": input(\"Enter Checkout Date (YYYY-MM-DD): \"),\n",
    "        \"Insurance\": input(\"Has Insurance (Yes/No): \")\n",
    "    }\n",
    "    \n",
    "    # Append to the dataset using pd.concat\n",
    "    new_row = pd.DataFrame([details])  # Convert dictionary to DataFrame\n",
    "    data = pd.concat([data, new_row], ignore_index=True)\n",
    "    print(\"Patient details added successfully.\")\n",
    "\n",
    "    # Save the dataset\n",
    "    data.to_csv(file_path, index=False)\n",
    "    print(\"Dataset updated.\")\n",
    "\n",
    "# Main program loop\n",
    "while True:\n",
    "    try:\n",
    "        patient_id = int(input(\"Enter Patient ID to search: \"))\n",
    "        find_patient(patient_id)\n",
    "    except ValueError:\n",
    "        print(\"Invalid Patient ID. Please enter a valid integer.\")\n",
    "    \n",
    "    cont = input(\"Do you want to continue? (yes/no): \").strip().lower()\n",
    "    if cont != 'yes':\n",
    "        break\n"
   ]
  },
  {
   "cell_type": "code",
   "execution_count": 13,
   "id": "99ceafa3-76cc-4697-937a-6207af7d6de4",
   "metadata": {},
   "outputs": [
    {
     "name": "stdout",
     "output_type": "stream",
     "text": [
      "Model Trained! Accuracy: 1.00\n",
      "Model Trained! Accuracy: 1.00\n"
     ]
    },
    {
     "name": "stdin",
     "output_type": "stream",
     "text": [
      "Enter Patient ID to search:  69\n"
     ]
    },
    {
     "name": "stdout",
     "output_type": "stream",
     "text": [
      "Patient Found:\n",
      "    PatientID        State   Sex GeneralHealth  AgeCategory  HeightInMeters  \\\n",
      "68         69  West Bengal  Male          Fair            7             1.8   \n",
      "\n",
      "    WeightInKilograms    BMI                              Disease  JoinedDate  \\\n",
      "68          94.800003  29.15  HadArthritis, ChestScan, HIVTesting  2020-02-11   \n",
      "\n",
      "   CheckoutDate Insurance  \n",
      "68   2020-03-01        No  \n"
     ]
    },
    {
     "name": "stdin",
     "output_type": "stream",
     "text": [
      "Do you want to continue? (yes/no):  yes\n",
      "Enter Patient ID to search:  236598741\n"
     ]
    },
    {
     "name": "stdout",
     "output_type": "stream",
     "text": [
      "Patient not found. Adding new patient details.\n",
      "Assigning new PatientID: 237632\n"
     ]
    },
    {
     "name": "stdin",
     "output_type": "stream",
     "text": [
      "Enter State:  Telangana\n",
      "Enter Sex (Male/Female):  Male\n",
      "Enter General Health:  Fair\n",
      "Enter Age Category:  20\n",
      "Enter Height in Meters:  1.68\n",
      "Enter Weight in Kilograms:  69\n",
      "Enter BMI:  1.43\n",
      "Enter Diseases (comma-separated):  Stroke, Asthma\n",
      "Enter Joined Date (YYYY-MM-DD):  2024-06-04\n",
      "Enter Checkout Date (YYYY-MM-DD):  2024-10-04\n",
      "Has Insurance (Yes/No):  Yes\n"
     ]
    },
    {
     "name": "stderr",
     "output_type": "stream",
     "text": [
      "C:\\Users\\KGRCET\\anaconda3\\Lib\\site-packages\\sklearn\\base.py:493: UserWarning: X does not have valid feature names, but RandomForestClassifier was fitted with feature names\n",
      "  warnings.warn(\n"
     ]
    },
    {
     "name": "stdout",
     "output_type": "stream",
     "text": [
      "Disease Prediction for New Patient: No Diabetes Detected\n",
      "Patient details added successfully.\n",
      "Dataset updated.\n"
     ]
    },
    {
     "name": "stdin",
     "output_type": "stream",
     "text": [
      "Do you want to continue? (yes/no):  YEs\n",
      "Enter Patient ID to search:  69\n"
     ]
    },
    {
     "name": "stdout",
     "output_type": "stream",
     "text": [
      "Patient Found:\n",
      "    PatientID        State   Sex GeneralHealth  AgeCategory  HeightInMeters  \\\n",
      "68         69  West Bengal  Male          Fair            7             1.8   \n",
      "\n",
      "    WeightInKilograms    BMI                              Disease  JoinedDate  \\\n",
      "68          94.800003  29.15  HadArthritis, ChestScan, HIVTesting  2020-02-11   \n",
      "\n",
      "   CheckoutDate Insurance  \n",
      "68   2020-03-01        No  \n"
     ]
    },
    {
     "name": "stdin",
     "output_type": "stream",
     "text": [
      "Do you want to continue? (yes/no):  no\n"
     ]
    }
   ],
   "source": [
    "import pandas as pd\n",
    "from sklearn.ensemble import RandomForestClassifier\n",
    "from sklearn.model_selection import train_test_split\n",
    "from sklearn.metrics import accuracy_score\n",
    "\n",
    "# Load the dataset\n",
    "file_path = \"dataset.csv\"\n",
    "data = pd.read_csv(file_path)\n",
    "\n",
    "from sklearn.preprocessing import LabelEncoder\n",
    "from sklearn.ensemble import RandomForestClassifier\n",
    "from sklearn.model_selection import train_test_split\n",
    "from sklearn.metrics import accuracy_score\n",
    "\n",
    "def train_disease_model():\n",
    "    global model\n",
    "\n",
    "    # Handle missing values\n",
    "    data[\"Disease\"] = data[\"Disease\"].fillna(\"\")  # Replace NaN with empty string\n",
    "    data[\"Disease\"] = data[\"Disease\"].astype(str)  # Convert all Disease values to string\n",
    "\n",
    "    # Label encode the AgeCategory column\n",
    "    le = LabelEncoder()\n",
    "    data[\"AgeCategory\"] = le.fit_transform(data[\"AgeCategory\"])\n",
    "\n",
    "    # Prepare features and labels\n",
    "    features = data[[\"AgeCategory\", \"BMI\", \"HeightInMeters\", \"WeightInKilograms\"]]\n",
    "\n",
    "    # Example: Using \"Diabetes\" as a condition to predict\n",
    "    labels = data[\"Disease\"].apply(lambda x: 1 if \"Diabetes\" in x else 0)  # Binary label\n",
    "\n",
    "    # Train the model\n",
    "    X_train, X_test, y_train, y_test = train_test_split(features, labels, test_size=0.2, random_state=42)\n",
    "    model = RandomForestClassifier()\n",
    "    model.fit(X_train, y_train)\n",
    "    \n",
    "    # Evaluate the model\n",
    "    predictions = model.predict(X_test)\n",
    "    accuracy = accuracy_score(y_test, predictions)\n",
    "    print(f\"Model Trained! Accuracy: {accuracy:.2f}\")\n",
    "\n",
    "# Call the function to train the model\n",
    "train_disease_model()\n",
    "\n",
    "\n",
    "# Function to predict disease for a new patient\n",
    "def predict_disease(new_patient_details):\n",
    "    global model\n",
    "    prediction = model.predict([new_patient_details])\n",
    "    disease_status = \"Likely has Diabetes\" if prediction[0] == 1 else \"No Diabetes Detected\"\n",
    "    return disease_status\n",
    "\n",
    "# Train the disease model at the start\n",
    "train_disease_model()\n",
    "\n",
    "def find_patient(patient_id):\n",
    "    global data\n",
    "    # Check if the patient exists\n",
    "    result = data[data[\"PatientID\"] == patient_id]\n",
    "    if not result.empty:\n",
    "        print(\"Patient Found:\")\n",
    "        print(result)\n",
    "    else:\n",
    "        print(\"Patient not found. Adding new patient details.\")\n",
    "        add_patient()\n",
    "\n",
    "def add_patient():\n",
    "    global data\n",
    "    # Get the next PatientID\n",
    "    next_patient_id = data[\"PatientID\"].max() + 1 if not data.empty else 1\n",
    "    print(f\"Assigning new PatientID: {next_patient_id}\")\n",
    "    \n",
    "    # Prompt user for other details\n",
    "    new_details = {\n",
    "        \"PatientID\": next_patient_id,\n",
    "        \"State\": input(\"Enter State: \"),\n",
    "        \"Sex\": input(\"Enter Sex (Male/Female): \"),\n",
    "        \"GeneralHealth\": input(\"Enter General Health: \"),\n",
    "        \"AgeCategory\": int(input(\"Enter Age Category: \")),  # Assuming it's numerical\n",
    "        \"HeightInMeters\": float(input(\"Enter Height in Meters: \")),\n",
    "        \"WeightInKilograms\": float(input(\"Enter Weight in Kilograms: \")),\n",
    "        \"BMI\": float(input(\"Enter BMI: \")),\n",
    "        \"Disease\": input(\"Enter Diseases (comma-separated): \"),\n",
    "        \"JoinedDate\": input(\"Enter Joined Date (YYYY-MM-DD): \"),\n",
    "        \"CheckoutDate\": input(\"Enter Checkout Date (YYYY-MM-DD): \"),\n",
    "        \"Insurance\": input(\"Has Insurance (Yes/No): \")\n",
    "    }\n",
    "    \n",
    "    # Predict disease\n",
    "    new_patient_features = [\n",
    "        new_details[\"AgeCategory\"],\n",
    "        new_details[\"BMI\"],\n",
    "        new_details[\"HeightInMeters\"],\n",
    "        new_details[\"WeightInKilograms\"]\n",
    "    ]\n",
    "    prediction = predict_disease(new_patient_features)\n",
    "    print(f\"Disease Prediction for New Patient: {prediction}\")\n",
    "    \n",
    "    # Append new patient to the dataset\n",
    "    data = pd.concat([data, pd.DataFrame([new_details])], ignore_index=True)\n",
    "    print(\"Patient details added successfully.\")\n",
    "\n",
    "    # Save the updated dataset\n",
    "    data.to_csv(file_path, index=False)\n",
    "    print(\"Dataset updated.\")\n",
    "\n",
    "# Main program loop\n",
    "while True:\n",
    "    try:\n",
    "        patient_id = int(input(\"Enter Patient ID to search: \"))\n",
    "        find_patient(patient_id)\n",
    "    except ValueError:\n",
    "        print(\"Invalid Patient ID. Please enter a valid integer.\")\n",
    "    \n",
    "    cont = input(\"Do you want to continue? (yes/no): \").strip().lower()\n",
    "    if cont != 'yes':\n",
    "        break\n"
   ]
  }
 ],
 "metadata": {
  "kernelspec": {
   "display_name": "Python 3 (ipykernel)",
   "language": "python",
   "name": "python3"
  },
  "language_info": {
   "codemirror_mode": {
    "name": "ipython",
    "version": 3
   },
   "file_extension": ".py",
   "mimetype": "text/x-python",
   "name": "python",
   "nbconvert_exporter": "python",
   "pygments_lexer": "ipython3",
   "version": "3.12.4"
  }
 },
 "nbformat": 4,
 "nbformat_minor": 5
}
